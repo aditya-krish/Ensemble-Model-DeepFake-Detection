{
 "cells": [
  {
   "cell_type": "code",
   "execution_count": 126,
   "metadata": {},
   "outputs": [],
   "source": [
    "import cv2\n",
    "import yaml\n",
    "from FaceBoxes import FaceBoxes\n",
    "from TDDFA import TDDFA\n",
    "from utils.functions import draw_landmarks\n",
    "import matplotlib.pyplot as plt\n",
    "import imageio\n",
    "from utils.functions import cv_draw_landmark, get_suffix\n",
    "import imageio_ffmpeg\n",
    "import tqdm as tqdm\n",
    "import numpy as np"
   ]
  },
  {
   "cell_type": "code",
   "execution_count": 89,
   "metadata": {},
   "outputs": [],
   "source": [
    "video_fp_ = 'Dataset/Videos/000.mp4'\n",
    "\n",
    "fn = video_fp_.split('/')[-1]\n",
    "reader = imageio.get_reader(video_fp_)\n",
    "fps = reader.get_meta_data()['fps']\n",
    "suffix = get_suffix(video_fp_)\n",
    "video_wfp = f'Dataset/Results{fn.replace(suffix, \"\")}_3d.mp4'\n",
    "writer = imageio.get_writer(video_wfp, fps=fps)"
   ]
  },
  {
   "cell_type": "code",
   "execution_count": 67,
   "metadata": {},
   "outputs": [],
   "source": [
    "# face detection\n",
    "face_boxes = FaceBoxes()"
   ]
  },
  {
   "cell_type": "code",
   "execution_count": null,
   "metadata": {},
   "outputs": [],
   "source": [
    "# regress 3DMM params\n",
    "cfg = yaml.load(open('configs\\mb1_120x120.yml'), Loader=yaml.SafeLoader)\n",
    "gpu_mode = cfg.get('gpu_mode', False)\n",
    "tddfa = TDDFA(gpu_mode = gpu_mode, **cfg)"
   ]
  },
  {
   "cell_type": "code",
   "execution_count": 132,
   "metadata": {},
   "outputs": [],
   "source": [
    "dense_flag = True\n",
    "pre_ver = None\n",
    "boxes = []\n",
    "boxes_b = []\n",
    "param_lst_b = []\n",
    "for i, frame in (enumerate(reader)):\n",
    "    # print(frame)\n",
    "    frame_bgr = frame[..., ::-1]  # RGB->BGR\n",
    "    # print(frame_bgr)\n",
    "    # if i == 0:\n",
    "        # the first frame, detect face, here we only use the first face, you can change depending on your need\n",
    "    boxes = face_boxes(frame_bgr)\n",
    "    param_lst, roi_box_lst = tddfa(frame_bgr, boxes)\n",
    "    boxes_b = boxes_b + boxes\n",
    "    param_lst_b += param_lst\n",
    "    np.savez_compressed('000.npz',boxes_b,param_lst_b)\n"
   ]
  }
 ],
 "metadata": {
  "kernelspec": {
   "display_name": "Python 3.10.5 64-bit",
   "language": "python",
   "name": "python3"
  },
  "language_info": {
   "codemirror_mode": {
    "name": "ipython",
    "version": 3
   },
   "file_extension": ".py",
   "mimetype": "text/x-python",
   "name": "python",
   "nbconvert_exporter": "python",
   "pygments_lexer": "ipython3",
   "version": "3.10.5"
  },
  "orig_nbformat": 4,
  "vscode": {
   "interpreter": {
    "hash": "afb734500600fd355917ca529030176ea0ca205570884b88f2f6f7d791fd3fbe"
   }
  }
 },
 "nbformat": 4,
 "nbformat_minor": 2
}
