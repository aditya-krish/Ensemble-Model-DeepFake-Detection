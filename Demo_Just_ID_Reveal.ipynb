{
 "cells": [
  {
   "cell_type": "code",
   "execution_count": 2,
   "metadata": {},
   "outputs": [],
   "source": [
    "#requirements: pytorch>=1.6.0 numpy tqdm matplotlib\n",
    "import numpy as np\n",
    "from tqdm import tqdm\n",
    "from network1 import IDreveal\n",
    "import matplotlib.pyplot as plt\n",
    "from numpy import load\n",
    "import statistics as stat "
   ]
  },
  {
   "cell_type": "code",
   "execution_count": 43,
   "metadata": {},
   "outputs": [],
   "source": [
    "device   = 'cpu' # in ('cpu', 'cuda:0', 'cuda:1')\n",
    "time     = 100   # length of sequences in frames\n",
    "\n",
    "ref_vids = [ 'Dataset/feats/000', ] # Reference Videos\n",
    "\n",
    "\n",
    "test_vids =  [ # Test Videos \n",
    "    #(Video, Type),\n",
    "    ('Dataset/feats/001',  1),\n",
    "    ('Dataset/feats/002',  1),\n",
    "]\n",
    "\n",
    "typ_colors = ['C2', 'C3'] # color for each type of video\n",
    "typ_labels = ['Real videos', 'Deepfakes'] # label for each type of video"
   ]
  },
  {
   "cell_type": "code",
   "execution_count": 44,
   "metadata": {},
   "outputs": [],
   "source": [
    "net = IDreveal(time=time, device=device, weights_file='./model.th')\n",
    "def extract_embedding(x):\n",
    "    if isinstance(x, str):\n",
    "        x = np.load(x) # load 3ddfa features\n",
    "    y = net(x['arr_1']) # apply Temporal ID Network arr_1 contain the 3ddfa features array of vector have 62 coeff\n",
    "    return y\n"
   ]
  },
  {
   "cell_type": "code",
   "execution_count": 45,
   "metadata": {},
   "outputs": [
    {
     "name": "stdout",
     "output_type": "stream",
     "text": [
      "Extracting embedded vectors for reference videos\n"
     ]
    },
    {
     "name": "stderr",
     "output_type": "stream",
     "text": [
      "100%|██████████| 1/1 [00:02<00:00,  2.54s/it]"
     ]
    },
    {
     "name": "stdout",
     "output_type": "stream",
     "text": [
      "\n",
      "Number of reference embedded vectors: 297\n"
     ]
    },
    {
     "name": "stderr",
     "output_type": "stream",
     "text": [
      "\n"
     ]
    }
   ],
   "source": [
    "# extract embedded vectors for reference videos\n",
    "print('Extracting embedded vectors for reference videos', flush=True)\n",
    "ref_embs = np.concatenate([extract_embedding('./feats/%s.npz' % vid) for vid in tqdm(ref_vids)], 0)\n",
    "print(flush=True)\n",
    "print('Number of reference embedded vectors:', len(ref_embs), flush=True)\n",
    "\n",
    "\n",
    "# print([extract_embedding('./feats/%s.npz' % vid) for vid in tqdm(ref_vids)])"
   ]
  },
  {
   "cell_type": "code",
   "execution_count": 46,
   "metadata": {},
   "outputs": [
    {
     "name": "stdout",
     "output_type": "stream",
     "text": [
      "Extracting embedded vectors and distance computation for test videos\n"
     ]
    },
    {
     "name": "stderr",
     "output_type": "stream",
     "text": [
      "100%|██████████| 2/2 [00:04<00:00,  2.21s/it]"
     ]
    },
    {
     "name": "stdout",
     "output_type": "stream",
     "text": [
      "\n",
      "Total number of extracted vectors: 501\n",
      "[(array([1.5066034 , 1.4755685 , 1.4055097 , 1.4613216 , 1.4304607 ,\n",
      "       1.4539752 , 1.4032588 , 1.4624736 , 1.4369608 , 1.4766634 ,\n",
      "       1.4580903 , 1.4439316 , 1.4542387 , 1.4195487 , 1.5068376 ,\n",
      "       1.4463947 , 1.4468473 , 1.4139445 , 1.4395281 , 1.392686  ,\n",
      "       1.4665647 , 1.3979998 , 1.4317944 , 1.3714187 , 1.3962352 ,\n",
      "       1.4085119 , 1.396614  , 1.3752401 , 1.4250214 , 1.3717856 ,\n",
      "       1.3552244 , 1.367882  , 1.389072  , 1.3224208 , 1.2874979 ,\n",
      "       1.2926062 , 1.3201612 , 1.3291323 , 1.239234  , 1.3274362 ,\n",
      "       1.3699557 , 1.4032844 , 1.3578752 , 1.4978893 , 1.4743352 ,\n",
      "       1.4687889 , 1.4428401 , 1.5090628 , 1.4450642 , 1.468365  ,\n",
      "       1.4147222 , 1.4164177 , 1.3446715 , 1.3383733 , 1.325696  ,\n",
      "       1.3254218 , 1.2813351 , 1.3360139 , 1.3027567 , 1.3276266 ,\n",
      "       1.3149964 , 1.3647077 , 1.3745257 , 1.39275   , 1.405923  ,\n",
      "       1.4342647 , 1.4464023 , 1.4470547 , 1.4359171 , 1.4413226 ,\n",
      "       1.4480076 , 1.4749386 , 1.4526429 , 1.4606003 , 1.4472904 ,\n",
      "       1.4638817 , 1.4856231 , 1.4804207 , 1.4372706 , 1.4286191 ,\n",
      "       1.3867404 , 1.411719  , 1.3498509 , 1.3341622 , 1.2604079 ,\n",
      "       1.3437808 , 1.3283397 , 1.332144  , 1.3384387 , 1.3455327 ,\n",
      "       1.2963574 , 1.3649328 , 1.3814495 , 1.4051638 , 1.5157373 ,\n",
      "       1.4809008 , 1.5568305 , 1.6053948 , 1.6148077 , 1.6239033 ,\n",
      "       1.6558263 , 1.7071469 , 1.686002  , 1.5893834 , 1.5910009 ,\n",
      "       1.6448175 , 1.6488321 , 1.7060544 , 1.706337  , 1.7817205 ,\n",
      "       1.8277757 , 1.6748548 , 1.6926386 , 1.6673278 , 1.6769893 ,\n",
      "       1.619379  , 1.6421322 , 1.6396167 , 1.7187669 , 1.6847174 ,\n",
      "       1.6755564 , 1.668221  , 1.6462617 , 1.6776462 , 1.6822243 ,\n",
      "       1.7154428 , 1.7043301 , 1.6509048 , 1.6961608 , 1.736279  ,\n",
      "       1.7148793 , 1.8177277 , 1.7488421 , 1.7401433 , 1.6960539 ,\n",
      "       1.6940496 , 1.6855333 , 1.6302772 , 1.6617658 , 1.6346031 ,\n",
      "       1.63345   , 1.6947056 , 1.705124  , 1.771266  , 1.695497  ,\n",
      "       1.6856192 , 1.6687273 , 1.7615843 , 1.7401326 , 1.8180473 ,\n",
      "       1.8188746 , 1.8877045 , 1.7731686 , 1.8070772 , 1.7665871 ,\n",
      "       1.7950972 , 1.7685182 , 1.7445884 , 1.8038813 , 1.7975075 ,\n",
      "       1.7297363 , 1.7842109 , 1.7641394 , 1.6979094 , 1.7550898 ,\n",
      "       1.7387421 , 1.7761104 , 1.6622927 , 1.7138686 , 1.6903623 ,\n",
      "       1.6742499 , 1.6352942 , 1.6749072 , 1.7157176 , 1.7095501 ,\n",
      "       1.7239561 , 1.735471  , 1.798135  , 1.7898504 , 1.7943712 ,\n",
      "       1.8222573 , 1.8632207 , 1.8361356 , 1.8745661 , 1.8894222 ,\n",
      "       1.9081078 , 1.9054198 , 1.8942984 , 1.9211818 , 1.9117578 ,\n",
      "       1.919863  , 1.976153  , 1.8898386 , 1.8466759 , 1.7391307 ,\n",
      "       1.7791473 , 1.8455231 , 1.8477464 , 1.8007677 , 1.7091353 ,\n",
      "       1.8038309 , 1.7059386 , 1.7337499 , 1.6860144 , 1.7310364 ,\n",
      "       1.7596872 , 1.7097237 , 1.7208152 , 1.7128897 , 1.6922777 ,\n",
      "       1.6887132 , 1.7772838 , 1.7465012 , 1.7604995 , 1.7105035 ,\n",
      "       1.6559575 , 1.7149988 , 1.6770048 , 1.7805948 , 1.7312319 ,\n",
      "       1.8229008 , 1.6995512 , 1.777611  , 1.6964737 , 1.7532254 ,\n",
      "       1.6864995 , 1.8040303 , 1.7114117 , 1.7653176 , 1.653208  ,\n",
      "       1.6875492 , 1.6169347 , 1.620069  , 1.6205548 , 1.6299057 ,\n",
      "       1.6206558 , 1.6497153 , 1.6131687 , 1.6246284 , 1.5506382 ,\n",
      "       1.6063507 , 1.6399109 , 1.638138  , 1.5937951 , 1.635432  ,\n",
      "       1.5982027 , 1.5633398 , 1.5476344 , 1.5462079 , 1.6054714 ,\n",
      "       1.5927662 , 1.5982171 , 1.6056681 , 1.574537  , 1.5626466 ,\n",
      "       1.5755453 , 1.5538696 , 1.5588061 , 1.5121609 , 1.5144966 ,\n",
      "       1.4571416 , 1.4060822 , 1.383275  , 1.4087179 , 1.3917034 ,\n",
      "       1.3647261 , 1.3396808 , 1.3682976 , 1.317513  , 1.3083291 ,\n",
      "       1.2833239 , 1.2349694 , 1.1855558 , 1.1313543 , 1.0887718 ,\n",
      "       1.0226586 , 1.0137094 , 0.98747337, 1.0055423 , 0.9832068 ,\n",
      "       1.0089533 , 0.9881731 , 0.99388945, 0.9670018 , 0.9973141 ,\n",
      "       0.9784249 , 0.9523589 , 0.97835785, 0.9587786 , 0.9267731 ,\n",
      "       0.9453731 , 0.9439338 , 0.9120605 , 0.968592  , 0.95511544,\n",
      "       0.97422004, 0.9379208 ], dtype=float32), 1), (array([1.0447671 , 1.0475794 , 1.0494273 , 1.0242882 , 1.0701753 ,\n",
      "       1.0896738 , 1.0361526 , 1.0455444 , 1.0819824 , 1.097496  ,\n",
      "       1.1159377 , 1.1605716 , 1.1577796 , 1.1213585 , 1.1186066 ,\n",
      "       1.1327035 , 1.165538  , 1.0612133 , 1.0471525 , 1.1366303 ,\n",
      "       1.148783  , 1.090177  , 1.0703058 , 1.0626343 , 1.0772798 ,\n",
      "       1.0338482 , 1.0033815 , 0.9745302 , 0.98209834, 1.0111732 ,\n",
      "       1.0083683 , 1.0341599 , 1.0369445 , 1.0314205 , 1.0160382 ,\n",
      "       0.930729  , 0.88951415, 0.95834124, 0.9289153 , 1.0026692 ,\n",
      "       0.9302455 , 1.0629525 , 1.0173895 , 1.1455925 , 1.046545  ,\n",
      "       1.1380827 , 1.0458229 , 1.145881  , 1.0359986 , 1.0610808 ,\n",
      "       1.0372174 , 1.0280465 , 1.0630872 , 1.0590547 , 1.0621035 ,\n",
      "       1.0403357 , 1.041493  , 1.024246  , 1.0617492 , 1.0076811 ,\n",
      "       0.98315704, 0.97345763, 0.94885594, 0.95932597, 0.98867387,\n",
      "       0.9059193 , 0.9262628 , 0.9750549 , 0.9434711 , 0.9777669 ,\n",
      "       0.9752915 , 1.0791372 , 1.0511482 , 1.1157435 , 1.111997  ,\n",
      "       1.1671941 , 1.136086  , 1.2261415 , 1.1925018 , 1.152206  ,\n",
      "       1.1908873 , 1.1801116 , 1.2576121 , 1.2496831 , 1.2885354 ,\n",
      "       1.2906005 , 1.303458  , 1.2376113 , 1.2994933 , 1.294561  ,\n",
      "       1.321959  , 1.2412641 , 1.2234731 , 1.2294152 , 1.2666221 ,\n",
      "       1.2318147 , 1.1445388 , 1.1713426 , 1.1279596 , 1.1280303 ,\n",
      "       1.0386995 , 1.0397419 , 1.0598845 , 1.1154361 , 1.0777273 ,\n",
      "       1.0860834 , 1.1509017 , 1.1522835 , 1.1243588 , 1.0608537 ,\n",
      "       1.0555029 , 1.0147713 , 1.0585418 , 1.0306139 , 1.0034254 ,\n",
      "       0.8854578 , 0.9432398 , 0.9236625 , 0.889333  , 0.8474675 ,\n",
      "       0.82567155, 0.78592134, 0.810472  , 0.79492134, 0.7785206 ,\n",
      "       0.8142656 , 0.7806421 , 0.8151504 , 0.8920751 , 0.93131685,\n",
      "       0.90723854, 0.9033846 , 0.9471828 , 0.9047154 , 0.9057603 ,\n",
      "       0.93390596, 1.0302972 , 0.9472277 , 0.9186758 , 0.9101141 ,\n",
      "       0.90267956, 0.83899   , 0.83909005, 0.78661245, 0.81901443,\n",
      "       0.8159964 , 0.791232  , 0.7660867 , 0.76499534, 0.7007529 ,\n",
      "       0.6980444 , 0.6904942 , 0.72901213, 0.63900757, 0.662403  ,\n",
      "       0.6456322 , 0.68632805, 0.6460503 , 0.6065849 , 0.602466  ,\n",
      "       0.57966244, 0.5474421 , 0.58869624, 0.6357888 , 0.65085804,\n",
      "       0.6679769 , 0.66308844, 0.6306895 , 0.6102936 , 0.63295484,\n",
      "       0.6565702 , 0.65082574, 0.67644715, 0.67319125, 0.6847146 ,\n",
      "       0.68764496, 0.7180057 , 0.7048975 , 0.7268046 , 0.738084  ,\n",
      "       0.7421229 , 0.7472252 , 0.7045088 , 0.7091124 , 0.695876  ,\n",
      "       0.7312695 , 0.6782749 , 0.71236527, 0.66615367, 0.7146697 ,\n",
      "       0.70019543, 0.6884164 , 0.6366552 , 0.6771487 , 0.66223097,\n",
      "       0.6292605 , 0.67315054, 0.68894804, 0.7285386 , 0.72506607,\n",
      "       0.73109925, 0.7584318 , 0.7380141 , 0.7727282 ], dtype=float32), 1)]\n"
     ]
    },
    {
     "name": "stderr",
     "output_type": "stream",
     "text": [
      "\n"
     ]
    }
   ],
   "source": [
    "print('Extracting embedded vectors and distance computation for test videos', flush=True)\n",
    "list_dist = list()\n",
    "count_embs = 0\n",
    "for vid, typ in tqdm(test_vids):\n",
    "    embs = extract_embedding('Dataset/feats/%s.npz' % vid) # extract embedded vectors for a test video\n",
    "    count_embs = count_embs + len(embs)\n",
    "    dist = np.min(np.sum(np.square(ref_embs[None,:,:]-embs[:,None,:]),-1),-1) # compute distances\n",
    "    list_dist.append((dist, typ))\n",
    "    \n",
    "\n",
    "    #Jihad(To show the number of embeded vector for each video)\n",
    "    #print('Total number of extracted vectors of video %s is:'%vid, len(embs), flush=True)\n",
    "    ##########################\n",
    "    \n",
    "print(flush=True)\n",
    "print('Total number of extracted vectors:', count_embs, flush=True)\n",
    "print(list_dist)"
   ]
  },
  {
   "cell_type": "code",
   "execution_count": 56,
   "metadata": {},
   "outputs": [
    {
     "name": "stderr",
     "output_type": "stream",
     "text": [
      "C:\\Users\\User\\AppData\\Local\\Temp\\ipykernel_12600\\3087368063.py:36: UserWarning: Legend does not support None instances.\n",
      "A proxy artist may be used instead.\n",
      "See: https://matplotlib.org/users/legend_guide.html#creating-artists-specifically-for-adding-to-the-legend-aka-proxy-artists\n",
      "  plt.legend(typ_id,  typ_labels, bbox_to_anchor=(1.04, 1), loc='upper left', fontsize=12.0)\n"
     ]
    },
    {
     "data": {
      "image/png": "[encoded data removed]",
      "text/plain": [
       "<Figure size 288x432 with 1 Axes>"
      ]
     },
     "metadata": {
      "needs_background": "light"
     },
     "output_type": "display_data"
    }
   ],
   "source": [
    "def set_color_violin(parts, color):\n",
    "    #utlity function to change the color of violin-plot\n",
    "    ret = None\n",
    "    for keys in parts:\n",
    "        if keys=='bodies':\n",
    "            for pc in parts['bodies']:\n",
    "                ret = pc\n",
    "                pc.set_facecolor(color)\n",
    "                pc.set_edgecolor(color)\n",
    "        else:\n",
    "            parts[keys].set_edgecolor(color)\n",
    "            parts[keys].set_facecolor(color)\n",
    "    return ret\n",
    "\n",
    "    \n",
    "# show violin-plot\n",
    "plt.figure(figsize=(4,6))\n",
    "typ_id = [None for _ in typ_labels]\n",
    "for i, (dist, typ) in enumerate(list_dist):\n",
    "    parts = plt.violinplot(dist, positions=(i+0.5,) ,showmedians=True, points=dist.size)\n",
    "    typ_id[typ] = set_color_violin(parts, typ_colors[typ])\n",
    "\n",
    "#Jihad \n",
    "# print(list_dist)\n",
    "# #Jihad The threshold value is sqrt(1.1)\n",
    "# print(np.average(list_dist[7][0])) #mean value of distances for the video number 8 in testing videos\n",
    "# print(np.median(list_dist[7][0]))  #median value of distances for the video number 8 in testing videos\n",
    "# print(stat.variance(list_dist[6][0]))\n",
    "\n",
    "plt.xlim([0,len(list_dist)])\n",
    "plt.xticks(np.arange(len(list_dist)),[])\n",
    "plt.ylim([0.5,0.7])\n",
    "plt.yticks([0.5,1,1.5,2,2.5],[], fontsize=10.0)\n",
    "plt.ylabel('Squared Euclidean distance', fontsize=14.0)\n",
    "\n",
    "plt.legend(typ_id,  typ_labels, bbox_to_anchor=(1.04, 1), loc='upper left', fontsize=12.0)\n",
    "plt.grid()\n",
    "plt.show()    "
   ]
  },
  {
   "cell_type": "code",
   "execution_count": null,
   "metadata": {},
   "outputs": [],
   "source": []
  }
 ],
 "metadata": {
  "kernelspec": {
   "display_name": "Python 3.10.5 64-bit",
   "language": "python",
   "name": "python3"
  },
  "language_info": {
   "codemirror_mode": {
    "name": "ipython",
    "version": 3
   },
   "file_extension": ".py",
   "mimetype": "text/x-python",
   "name": "python",
   "nbconvert_exporter": "python",
   "pygments_lexer": "ipython3",
   "version": "3.10.5"
  },
  "vscode": {
   "interpreter": {
    "hash": "afb734500600fd355917ca529030176ea0ca205570884b88f2f6f7d791fd3fbe"
   }
  }
 },
 "nbformat": 4,
 "nbformat_minor": 4
}
