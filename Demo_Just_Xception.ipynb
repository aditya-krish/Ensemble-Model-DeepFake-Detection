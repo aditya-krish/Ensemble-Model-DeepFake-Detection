{
 "cells": [
  {
   "cell_type": "code",
   "execution_count": 14,
   "metadata": {},
   "outputs": [],
   "source": [
    "import os\n",
    "import re\n",
    "import argparse\n",
    "import youtube_dl\n",
    "import sys\n",
    "import warnings\n",
    "from os.path import join\n",
    "from signal import signal, SIGINT, SIG_DFL\n",
    "\n",
    "from detection import test_full_image_network"
   ]
  },
  {
   "cell_type": "code",
   "execution_count": 15,
   "metadata": {},
   "outputs": [
    {
     "name": "stdout",
     "output_type": "stream",
     "text": [
      "Starting: dataset/213.mp4\n",
      "Using dropout 0.5\n",
      "Model found in models/x-model23.p\n"
     ]
    },
    {
     "name": "stderr",
     "output_type": "stream",
     "text": [
      "1500it [01:03, 23.78it/s]                          \n"
     ]
    }
   ],
   "source": [
    "model = 'models/x-model23.p'\n",
    "video_path = 'dataset/213.mp4'\n",
    "prediction = None\n",
    "\n",
    "if video_path.endswith('.mp4'):\n",
    "    prediction = test_full_image_network(video_path=video_path,model_path= model,start_frame= 0, output_path= \" videoOut\",fast='store_true')\n",
    "    "
   ]
  },
  {
   "cell_type": "code",
   "execution_count": 16,
   "metadata": {},
   "outputs": [
    {
     "name": "stdout",
     "output_type": "stream",
     "text": [
      "Prediction of it being fake: 21.794871794871796\n",
      "Output video in: 213.avi\n"
     ]
    }
   ],
   "source": [
    "print(\"Prediction of it being fake: \" + str(prediction[\"score\"]))\n",
    "print(\"Output video in: \" + prediction[\"file\"])"
   ]
  }
 ],
 "metadata": {
  "kernelspec": {
   "display_name": "Python 3.10.5 64-bit",
   "language": "python",
   "name": "python3"
  },
  "language_info": {
   "codemirror_mode": {
    "name": "ipython",
    "version": 3
   },
   "file_extension": ".py",
   "mimetype": "text/x-python",
   "name": "python",
   "nbconvert_exporter": "python",
   "pygments_lexer": "ipython3",
   "version": "3.10.5"
  },
  "orig_nbformat": 4,
  "vscode": {
   "interpreter": {
    "hash": "afb734500600fd355917ca529030176ea0ca205570884b88f2f6f7d791fd3fbe"
   }
  }
 },
 "nbformat": 4,
 "nbformat_minor": 2
}
